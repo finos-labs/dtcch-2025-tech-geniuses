{
 "cells": [
  {
   "cell_type": "code",
   "execution_count": 2,
   "id": "b2c6918b-afa9-4551-825f-9296fd377f98",
   "metadata": {
    "scrolled": true
   },
   "outputs": [
    {
     "name": "stdout",
     "output_type": "stream",
     "text": [
      "Collecting openpyxl\n",
      "  Using cached openpyxl-3.1.5-py2.py3-none-any.whl.metadata (2.5 kB)\n",
      "Collecting et-xmlfile (from openpyxl)\n",
      "  Using cached et_xmlfile-2.0.0-py3-none-any.whl.metadata (2.7 kB)\n",
      "Using cached openpyxl-3.1.5-py2.py3-none-any.whl (250 kB)\n",
      "Using cached et_xmlfile-2.0.0-py3-none-any.whl (18 kB)\n",
      "Installing collected packages: et-xmlfile, openpyxl\n",
      "Successfully installed et-xmlfile-2.0.0 openpyxl-3.1.5\n"
     ]
    }
   ],
   "source": [
    "!pip install openpyxl"
   ]
  },
  {
   "cell_type": "code",
   "execution_count": 3,
   "id": "72ff1ce3-0690-47b5-b83e-831a2c844275",
   "metadata": {},
   "outputs": [
    {
     "name": "stdout",
     "output_type": "stream",
     "text": [
      "              Company name Document Name Company ID (Ticker) Document ID Type  \\\n",
      "0                 Reliance    RIL_AR_O&G        INE002A01018               AR   \n",
      "1                 Reliance    RIL_IP_O&G        INE002A01018               IP   \n",
      "2                 Reliance    RIL_SR_O&G        INE002A01018               SR   \n",
      "3                 Reliance   RIL_ECT_O&G        INE002A01018              ECT   \n",
      "4  Bharat Petroleum (BPCL)   BPCL_AR_O&G        INE029A01011               AR   \n",
      "\n",
      "  Document Category ID  \n",
      "0                  FIN  \n",
      "1                  INV  \n",
      "2                  ESG  \n",
      "3               SCRIPT  \n",
      "4                  FIN  \n"
     ]
    }
   ],
   "source": [
    "import pandas as pd\n",
    "\n",
    "# Path to your local metadata file\n",
    "metadata_file_path = \"meta.xlsx\"\n",
    "\n",
    "# Read Excel file\n",
    "metadata_df = pd.read_excel(metadata_file_path, engine='openpyxl', sheet_name=\"Metadata\")\n",
    "\n",
    "# Preview Metadata\n",
    "print(metadata_df.head())"
   ]
  },
  {
   "cell_type": "code",
   "execution_count": 4,
   "id": "4ac447ef-9310-4f81-b4c5-d6cf3c427699",
   "metadata": {},
   "outputs": [
    {
     "name": "stdout",
     "output_type": "stream",
     "text": [
      "Document: RIL_AR_O&G.pdf, Metadata: {'Company name': 'Reliance', 'Document Name': 'RIL_AR_O&G', 'Company ID (Ticker)': 'INE002A01018', 'Document ID Type': 'AR', 'Document Category ID': 'FIN'}\n",
      "Document: RIL_IP_O&G.pdf, Metadata: {'Company name': 'Reliance', 'Document Name': 'RIL_IP_O&G', 'Company ID (Ticker)': 'INE002A01018', 'Document ID Type': 'IP', 'Document Category ID': 'INV'}\n",
      "Document: RIL_SR_O&G.pdf, Metadata: {'Company name': 'Reliance', 'Document Name': 'RIL_SR_O&G', 'Company ID (Ticker)': 'INE002A01018', 'Document ID Type': 'SR', 'Document Category ID': 'ESG'}\n",
      "Document: RIL_ECT_O&G.pdf, Metadata: {'Company name': 'Reliance', 'Document Name': 'RIL_ECT_O&G', 'Company ID (Ticker)': 'INE002A01018', 'Document ID Type': 'ECT', 'Document Category ID': 'SCRIPT'}\n",
      "Document: BPCL_AR_O&G.pdf, Metadata: {'Company name': 'Bharat Petroleum (BPCL)', 'Document Name': 'BPCL_AR_O&G', 'Company ID (Ticker)': 'INE029A01011', 'Document ID Type': 'AR', 'Document Category ID': 'FIN'}\n",
      "Document: BPCL_IP_O&G.pdf, Metadata: {'Company name': 'Bharat Petroleum (BPCL)', 'Document Name': 'BPCL_IP_O&G', 'Company ID (Ticker)': 'INE029A01011', 'Document ID Type': 'IP', 'Document Category ID': 'INV'}\n",
      "Document: BPCL_SR_O&G.pdf, Metadata: {'Company name': 'Bharat Petroleum (BPCL)', 'Document Name': 'BPCL_SR_O&G', 'Company ID (Ticker)': 'INE029A01011', 'Document ID Type': 'SR', 'Document Category ID': 'ESG'}\n",
      "Document: BPCL_ECT_O&G.pdf, Metadata: {'Company name': 'Bharat Petroleum (BPCL)', 'Document Name': 'BPCL_ECT_O&G', 'Company ID (Ticker)': 'INE029A01011', 'Document ID Type': 'ECT', 'Document Category ID': 'SCRIPT'}\n",
      "Document: HPCL_AR_O&G.pdf, Metadata: {'Company name': 'HPCL', 'Document Name': 'HPCL_AR_O&G', 'Company ID (Ticker)': 'INE094A01015', 'Document ID Type': 'AR', 'Document Category ID': 'FIN'}\n",
      "Document: HPCL_IP_O&G.pdf, Metadata: {'Company name': 'HPCL', 'Document Name': 'HPCL_IP_O&G', 'Company ID (Ticker)': 'INE094A01015', 'Document ID Type': 'IP', 'Document Category ID': 'INV'}\n",
      "Document: HPCL_SR_O&G.pdf, Metadata: {'Company name': 'HPCL', 'Document Name': 'HPCL_SR_O&G', 'Company ID (Ticker)': 'INE094A01015', 'Document ID Type': 'SR', 'Document Category ID': 'ESG'}\n",
      "Document: HPCL_ECT_O&G.pdf, Metadata: {'Company name': 'HPCL', 'Document Name': 'HPCL_ECT_O&G', 'Company ID (Ticker)': 'INE094A01015', 'Document ID Type': 'ECT', 'Document Category ID': 'SCRIPT'}\n",
      "Document: IOC_AR_O&G.pdf, Metadata: {'Company name': 'IOC', 'Document Name': 'IOC_AR_O&G', 'Company ID (Ticker)': 'INE242A01010', 'Document ID Type': 'AR', 'Document Category ID': 'FIN'}\n",
      "Document: IOC_IP_O&G.pdf, Metadata: {'Company name': 'IOC', 'Document Name': 'IOC_IP_O&G', 'Company ID (Ticker)': 'INE242A01010', 'Document ID Type': 'IP', 'Document Category ID': 'INV'}\n",
      "Document: IOC_SR_O&G.pdf, Metadata: {'Company name': 'IOC', 'Document Name': 'IOC_SR_O&G', 'Company ID (Ticker)': 'INE242A01010', 'Document ID Type': 'SR', 'Document Category ID': 'ESG'}\n",
      "Document: IOC_ECT_O&G.pdf, Metadata: {'Company name': 'IOC', 'Document Name': 'IOC_ECT_O&G', 'Company ID (Ticker)': 'INE242A01010', 'Document ID Type': 'ECT', 'Document Category ID': 'SCRIPT'}\n",
      "Document: ONGC_AR_O&G.pdf, Metadata: {'Company name': 'ONGC', 'Document Name': 'ONGC_AR_O&G', 'Company ID (Ticker)': 'INE213A01029', 'Document ID Type': 'AR', 'Document Category ID': 'FIN'}\n",
      "Document: ONGC_IP_O&G.pdf, Metadata: {'Company name': 'ONGC', 'Document Name': 'ONGC_IP_O&G', 'Company ID (Ticker)': 'INE213A01029', 'Document ID Type': 'IP', 'Document Category ID': 'INV'}\n",
      "Document: ONGC_SR_O&G.pdf, Metadata: {'Company name': 'ONGC', 'Document Name': 'ONGC_SR_O&G', 'Company ID (Ticker)': 'INE213A01029', 'Document ID Type': 'SR', 'Document Category ID': 'ESG'}\n",
      "Document: ONGC_ECT_O&G.pdf, Metadata: {'Company name': 'ONGC', 'Document Name': 'ONGC_ECT_O&G', 'Company ID (Ticker)': 'INE213A01029', 'Document ID Type': 'ECT', 'Document Category ID': 'SCRIPT'}\n",
      "Document: ADA_AR_O&G.pdf, Metadata: {'Company name': 'Adani Total Gas', 'Document Name': 'ADA_AR_O&G', 'Company ID (Ticker)': 'INE742G01010', 'Document ID Type': 'AR', 'Document Category ID': 'FIN'}\n",
      "Document: ADA_IP_O&G.pdf, Metadata: {'Company name': 'Adani Total Gas', 'Document Name': 'ADA_IP_O&G', 'Company ID (Ticker)': 'INE742G01010', 'Document ID Type': 'IP', 'Document Category ID': 'INV'}\n",
      "Document: ADA_SR_O&G.pdf, Metadata: {'Company name': 'Adani Total Gas', 'Document Name': 'ADA_SR_O&G', 'Company ID (Ticker)': 'INE742G01010', 'Document ID Type': 'SR', 'Document Category ID': 'ESG'}\n",
      "Document: ADA_ECT_O&G.pdf, Metadata: {'Company name': 'Adani Total Gas', 'Document Name': 'ADA_ECT_O&G', 'Company ID (Ticker)': 'INE742G01010', 'Document ID Type': 'ECT', 'Document Category ID': 'SCRIPT'}\n",
      "Document: OIL_AR_O&G.pdf, Metadata: {'Company name': 'Oil India Limited', 'Document Name': 'OIL_AR_O&G', 'Company ID (Ticker)': 'INE490J01019', 'Document ID Type': 'AR', 'Document Category ID': 'FIN'}\n",
      "Document: OIL_IP_O&G.pdf, Metadata: {'Company name': 'Oil India Limited', 'Document Name': 'OIL_IP_O&G', 'Company ID (Ticker)': 'INE490J01019', 'Document ID Type': 'IP', 'Document Category ID': 'INV'}\n",
      "Document: OIL_SR_O&G.pdf, Metadata: {'Company name': 'Oil India Limited', 'Document Name': 'OIL_SR_O&G', 'Company ID (Ticker)': 'INE490J01019', 'Document ID Type': 'SR', 'Document Category ID': 'ESG'}\n",
      "Document: OIL_ECT_O&G.pdf, Metadata: {'Company name': 'Oil India Limited', 'Document Name': 'OIL_ECT_O&G', 'Company ID (Ticker)': 'INE490J01019', 'Document ID Type': 'ECT', 'Document Category ID': 'SCRIPT'}\n",
      "Document: GAIL_AR_O&G.pdf, Metadata: {'Company name': 'GAIL India', 'Document Name': 'GAIL_AR_O&G', 'Company ID (Ticker)': 'INE129A01019', 'Document ID Type': 'AR', 'Document Category ID': 'FIN'}\n",
      "Document: GAIL_IP_O&G.pdf, Metadata: {'Company name': 'GAIL India', 'Document Name': 'GAIL_IP_O&G', 'Company ID (Ticker)': 'INE129A01019', 'Document ID Type': 'IP', 'Document Category ID': 'INV'}\n",
      "Document: GAIL_SR_O&G.pdf, Metadata: {'Company name': 'GAIL India', 'Document Name': 'GAIL_SR_O&G', 'Company ID (Ticker)': 'INE129A01019', 'Document ID Type': 'SR', 'Document Category ID': 'ESG'}\n",
      "Document: GAIL_ECT_O&G.pdf, Metadata: {'Company name': 'GAIL India', 'Document Name': 'GAIL_ECT_O&G', 'Company ID (Ticker)': 'INE129A01019', 'Document ID Type': 'ECT', 'Document Category ID': 'SCRIPT'}\n",
      "Document: CAS_AR_O&G.pdf, Metadata: {'Company name': 'Castrol India', 'Document Name': 'CAS_AR_O&G', 'Company ID (Ticker)': 'INE172A01027', 'Document ID Type': 'AR', 'Document Category ID': 'FIN'}\n",
      "Document: CAS_IP_O&G.pdf, Metadata: {'Company name': 'Castrol India', 'Document Name': 'CAS_IP_O&G', 'Company ID (Ticker)': 'INE172A01027', 'Document ID Type': 'IP', 'Document Category ID': 'INV'}\n",
      "Document: CAS_SR_O&G.pdf, Metadata: {'Company name': 'Castrol India', 'Document Name': 'CAS_SR_O&G', 'Company ID (Ticker)': 'INE172A01027', 'Document ID Type': 'SR', 'Document Category ID': 'ESG'}\n",
      "Document: CAS_ECT_O&G.pdf, Metadata: {'Company name': 'Castrol India', 'Document Name': 'CAS_ECT_O&G', 'Company ID (Ticker)': 'INE172A01027', 'Document ID Type': 'ECT', 'Document Category ID': 'SCRIPT'}\n",
      "Document: ABA_AR_O&G.pdf, Metadata: {'Company name': 'Aban Offshore', 'Document Name': 'ABA_AR_O&G', 'Company ID (Ticker)': 'INE053A01029', 'Document ID Type': 'AR', 'Document Category ID': 'FIN'}\n",
      "Document: ABA_IP_O&G.pdf, Metadata: {'Company name': 'Aban Offshore', 'Document Name': 'ABA_IP_O&G', 'Company ID (Ticker)': 'INE053A01029', 'Document ID Type': 'IP', 'Document Category ID': 'INV'}\n",
      "Document: ABA_SR_O&G.pdf, Metadata: {'Company name': 'Aban Offshore', 'Document Name': 'ABA_SR_O&G', 'Company ID (Ticker)': 'INE053A01029', 'Document ID Type': 'SR', 'Document Category ID': 'ESG'}\n",
      "Document: ABA_ECT_O&G.pdf, Metadata: {'Company name': 'Aban Offshore', 'Document Name': 'ABA_ECT_O&G', 'Company ID (Ticker)': 'INE053A01029', 'Document ID Type': 'ECT', 'Document Category ID': 'SCRIPT'}\n",
      "Document: SEL_AR_O&G.pdf, Metadata: {'Company name': 'Selan Exploration', 'Document Name': 'SEL_AR_O&G', 'Company ID (Ticker)': 'INE073A01015', 'Document ID Type': 'AR', 'Document Category ID': 'FIN'}\n",
      "Document: SEL_IP_O&G.pdf, Metadata: {'Company name': 'Selan Exploration', 'Document Name': 'SEL_IP_O&G', 'Company ID (Ticker)': 'INE073A01015', 'Document ID Type': 'IP', 'Document Category ID': 'INV'}\n",
      "Document: SEL_SR_O&G.pdf, Metadata: {'Company name': 'Selan Exploration', 'Document Name': 'SEL_SR_O&G', 'Company ID (Ticker)': 'INE073A01015', 'Document ID Type': 'SR', 'Document Category ID': 'ESG'}\n",
      "Document: SEL_ECT_O&G.pdf, Metadata: {'Company name': 'Selan Exploration', 'Document Name': 'SEL_ECT_O&G', 'Company ID (Ticker)': 'INE073A01015', 'Document ID Type': 'ECT', 'Document Category ID': 'SCRIPT'}\n",
      "Document: MRE_AR_O&G.pdf, Metadata: {'Company name': 'Mangalore Refinery and exploration', 'Document Name': 'MRE_AR_O&G', 'Company ID (Ticker)': 'INE103A01014', 'Document ID Type': 'AR', 'Document Category ID': 'FIN'}\n",
      "Document: MRE_IP_O&G.pdf, Metadata: {'Company name': 'Mangalore Refinery and exploration', 'Document Name': 'MRE_IP_O&G', 'Company ID (Ticker)': 'INE103A01014', 'Document ID Type': 'IP', 'Document Category ID': 'INV'}\n",
      "Document: MRE_SR_O&G.pdf, Metadata: {'Company name': 'Mangalore Refinery and exploration', 'Document Name': 'MRE_SR_O&G', 'Company ID (Ticker)': 'INE103A01014', 'Document ID Type': 'SR', 'Document Category ID': 'ESG'}\n",
      "Document: MRE_ECT_O&G.pdf, Metadata: {'Company name': 'Mangalore Refinery and exploration', 'Document Name': 'MRE_ECT_O&G', 'Company ID (Ticker)': 'INE103A01014', 'Document ID Type': 'ECT', 'Document Category ID': 'SCRIPT'}\n"
     ]
    }
   ],
   "source": [
    "# Add \".pdf\" to each document name\n",
    "metadata_df['file_name'] = metadata_df['Document Name'] + \".pdf\"\n",
    "\n",
    "# Convert metadata to a dictionary with file_name as the key\n",
    "metadata_dict = metadata_df.set_index('file_name').to_dict(orient=\"index\")\n",
    "\n",
    "# Print metadata for each document\n",
    "for file_name, meta in metadata_dict.items():\n",
    "    print(f\"Document: {file_name}, Metadata: {meta}\")\n"
   ]
  },
  {
   "cell_type": "code",
   "execution_count": 5,
   "id": "c603e5c9-5753-4778-825a-68aa25dfd619",
   "metadata": {},
   "outputs": [
    {
     "name": "stdout",
     "output_type": "stream",
     "text": [
      "PDF Files in S3: ['ABA_AR_O&G.pdf', 'ADA_AR_O&G.pdf', 'ADA_ECT_O&G.pdf', 'ADA_IP_O&G.pdf', 'ADA_SR_O&G.pdf', 'BPCL_AR_O&G.pdf', 'BPCL_ECT_O&G.pdf', 'BPCL_IP_O&G.pdf', 'BPCL_SR_O&G.pdf', 'HPCL_AR_O&G.pdf', 'HPCL_ECT_O&G.pdf', 'HPCL_IP_O&G.pdf', 'HPCL_SR_O&G.pdf', 'IOC_AR_O&G.pdf', 'IOC_ECT_O&G.pdf', 'IOC_IP_O&G.pdf', 'IOC_SR_O&G.pdf', 'MRE_AR_O&G.pdf', 'MRE_ECT_O&G.pdf', 'MRE_IP_O&G.pdf', 'RIL_AR_O&G.pdf', 'RIL_ECT_O&G.pdf', 'RIL_IP_O&G.pdf', 'RIL_SR_O&G.pdf']\n"
     ]
    }
   ],
   "source": [
    "#techgeniusbucket\n",
    "import boto3\n",
    "\n",
    "# Initialize S3 client\n",
    "s3_client = boto3.client('s3')\n",
    "\n",
    "# Define S3 bucket where PDFs are stored\n",
    "s3_bucket = \"techgeniusbucket\"\n",
    "\n",
    "# List all PDFs in S3\n",
    "def list_pdfs_in_s3(bucket_name):\n",
    "    pdf_files = []\n",
    "    response = s3_client.list_objects_v2(Bucket=bucket_name)\n",
    "\n",
    "    for obj in response.get('Contents', []):\n",
    "        if obj['Key'].endswith(\".pdf\"):\n",
    "            pdf_files.append(obj['Key'])\n",
    "\n",
    "    return pdf_files\n",
    "\n",
    "# Fetch all PDFs in S3\n",
    "pdf_files = list_pdfs_in_s3(s3_bucket)\n",
    "print(\"PDF Files in S3:\", pdf_files)\n"
   ]
  },
  {
   "cell_type": "code",
   "execution_count": 9,
   "id": "5461b85a-b9e1-42ab-9dd5-6d9c6f76e9f8",
   "metadata": {},
   "outputs": [
    {
     "name": "stdout",
     "output_type": "stream",
     "text": [
      "Matched PDFs with metadata: ['ABA_AR_O&G.pdf', 'ADA_AR_O&G.pdf', 'ADA_ECT_O&G.pdf', 'ADA_IP_O&G.pdf', 'ADA_SR_O&G.pdf', 'BPCL_AR_O&G.pdf', 'BPCL_ECT_O&G.pdf', 'BPCL_IP_O&G.pdf', 'BPCL_SR_O&G.pdf', 'HPCL_AR_O&G.pdf', 'HPCL_ECT_O&G.pdf', 'HPCL_IP_O&G.pdf', 'HPCL_SR_O&G.pdf', 'IOC_AR_O&G.pdf', 'IOC_ECT_O&G.pdf', 'IOC_IP_O&G.pdf', 'IOC_SR_O&G.pdf', 'MRE_AR_O&G.pdf', 'MRE_ECT_O&G.pdf', 'MRE_IP_O&G.pdf', 'RIL_AR_O&G.pdf', 'RIL_ECT_O&G.pdf', 'RIL_IP_O&G.pdf', 'RIL_SR_O&G.pdf']\n"
     ]
    }
   ],
   "source": [
    "# Match S3 PDFs with metadata\n",
    "matched_pdfs = [pdf for pdf in pdf_files if pdf in metadata_dict]\n",
    "\n",
    "print(\"Matched PDFs with metadata:\", matched_pdfs)\n"
   ]
  },
  {
   "cell_type": "code",
   "execution_count": 9,
   "id": "69a38624-c99d-4892-9274-d8cbc2bdac6b",
   "metadata": {},
   "outputs": [
    {
     "name": "stdout",
     "output_type": "stream",
     "text": [
      "Collecting pymupdf\n",
      "  Downloading pymupdf-1.25.2-cp39-abi3-manylinux2014_x86_64.manylinux_2_17_x86_64.whl.metadata (3.4 kB)\n",
      "Downloading pymupdf-1.25.2-cp39-abi3-manylinux2014_x86_64.manylinux_2_17_x86_64.whl (20.0 MB)\n",
      "\u001b[2K   \u001b[90m━━━━━━━━━━━━━━━━━━━━━━━━━━━━━━━━━━━━━━━━\u001b[0m \u001b[32m20.0/20.0 MB\u001b[0m \u001b[31m113.5 MB/s\u001b[0m eta \u001b[36m0:00:00\u001b[0m00:01\u001b[0m\n",
      "\u001b[?25hInstalling collected packages: pymupdf\n",
      "Successfully installed pymupdf-1.25.2\n"
     ]
    }
   ],
   "source": [
    "!pip install pymupdf"
   ]
  },
  {
   "cell_type": "code",
   "execution_count": 10,
   "id": "90b8fef9-d5e3-48c8-a131-a1f284f082f0",
   "metadata": {},
   "outputs": [],
   "source": [
    "import fitz  # PyMuPDF\n",
    "import os\n",
    "\n",
    "def extract_text_with_pymupdf(pdf_s3_bucket, pdf_file_key):\n",
    "    \"\"\"\n",
    "    Downloads a PDF from S3 and extracts text using PyMuPDF (MuPDF).\n",
    "    \"\"\"\n",
    "    temp_pdf_path = \"/tmp/temp_document.pdf\"  # Temp file path\n",
    "\n",
    "    # ✅ Step 1: Download PDF from S3\n",
    "    try:\n",
    "        s3_client.download_file(pdf_s3_bucket, pdf_file_key, temp_pdf_path)\n",
    "    except Exception as e:\n",
    "        print(f\"❌ Failed to download {pdf_file_key} from S3: {str(e)}\")\n",
    "        return \"\"\n",
    "\n",
    "    # ✅ Step 2: Open PDF and Extract Text\n",
    "    try:\n",
    "        doc = fitz.open(temp_pdf_path)\n",
    "        extracted_text = \"\"\n",
    "\n",
    "        for page in doc:\n",
    "            extracted_text += page.get_text(\"text\") + \"\\n\"\n",
    "\n",
    "        doc.close()\n",
    "        return extracted_text.strip()\n",
    "\n",
    "    except Exception as e:\n",
    "        print(f\"🚨 PyMuPDF failed to extract text from {pdf_file_key}: {str(e)}\")\n",
    "        return \"\"\n",
    "\n",
    "    finally:\n",
    "        # ✅ Step 3: Delete Temporary File\n",
    "        if os.path.exists(temp_pdf_path):\n",
    "            os.remove(temp_pdf_path)\n"
   ]
  },
  {
   "cell_type": "code",
   "execution_count": 11,
   "id": "1fbc3314-c15d-4894-b397-6d32bda1d725",
   "metadata": {},
   "outputs": [],
   "source": [
    "import time\n",
    "\n",
    "# Initialize Textract client\n",
    "textract_client = boto3.client('textract')\n",
    "\n",
    "def extract_graphs_from_pdf(pdf_s3_bucket, pdf_file_key):\n",
    "    \"\"\"\n",
    "    Extracts tables and forms from PDFs where `doc_id_type = SR` using Textract.\n",
    "    \"\"\"\n",
    "    print(f\"📊 Extracting graphs and tables for {pdf_file_key} (SR Document)...\")\n",
    "\n",
    "    try:\n",
    "        response = textract_client.start_document_analysis(\n",
    "            DocumentLocation={'S3Object': {'Bucket': pdf_s3_bucket, 'Name': pdf_file_key}},\n",
    "            FeatureTypes=[\"TABLES\", \"FORMS\"]\n",
    "        )\n",
    "        job_id = response['JobId']\n",
    "\n",
    "        # Wait for Textract to complete processing\n",
    "        while True:\n",
    "            status = textract_client.get_document_analysis(JobId=job_id)\n",
    "            if status[\"JobStatus\"] in [\"SUCCEEDED\", \"FAILED\"]:\n",
    "                break\n",
    "            print(\"⏳ Waiting for Textract to process document...\")\n",
    "            time.sleep(5)\n",
    "\n",
    "        if status[\"JobStatus\"] == \"FAILED\":\n",
    "            print(f\"❌ Textract failed for {pdf_file_key}\")\n",
    "            return \"\"\n",
    "\n",
    "        # ✅ Extract tables and forms\n",
    "        extracted_text = []\n",
    "        for block in status['Blocks']:\n",
    "            if block['BlockType'] in ['TABLE', 'CELL']:\n",
    "                extracted_text.append(block.get('Text', ''))\n",
    "\n",
    "        return \"\\n\".join(extracted_text)\n",
    "\n",
    "    except Exception as e:\n",
    "        print(f\"⚠️ Failed to extract graphs/tables from {pdf_file_key}: {str(e)}\")\n",
    "        return \"\"\n"
   ]
  },
  {
   "cell_type": "code",
   "execution_count": 25,
   "id": "73572325-f15f-46a8-be18-86986b355a99",
   "metadata": {},
   "outputs": [
    {
     "name": "stdout",
     "output_type": "stream",
     "text": [
      "dict_keys(['ABA_AR_O&G.pdf', 'ADA_AR_O&G.pdf', 'ADA_ECT_O&G.pdf', 'ADA_IP_O&G.pdf', 'ADA_SR_O&G.pdf', 'BPCL_AR_O&G.pdf', 'BPCL_ECT_O&G.pdf', 'BPCL_IP_O&G.pdf', 'BPCL_SR_O&G.pdf', 'HPCL_AR_O&G.pdf', 'HPCL_ECT_O&G.pdf', 'HPCL_IP_O&G.pdf', 'HPCL_SR_O&G.pdf', 'IOC_AR_O&G.pdf', 'IOC_ECT_O&G.pdf', 'IOC_IP_O&G.pdf', 'IOC_SR_O&G.pdf', 'MRE_AR_O&G.pdf', 'MRE_ECT_O&G.pdf', 'MRE_IP_O&G.pdf', 'RIL_AR_O&G.pdf', 'RIL_ECT_O&G.pdf', 'RIL_IP_O&G.pdf', 'RIL_SR_O&G.pdf'])\n"
     ]
    }
   ],
   "source": [
    "print(extracted_text_data.keys())\n",
    "    "
   ]
  },
  {
   "cell_type": "code",
   "execution_count": 144,
   "id": "f2380e1e-9dd1-4598-ac84-731493ccac45",
   "metadata": {},
   "outputs": [
    {
     "data": {
      "text/plain": [
       "{'Company name': 'Aban Offshore',\n",
       " 'Document Name': 'ABA_AR_O&G',\n",
       " 'Company ID (Ticker)': 'INE053A01029',\n",
       " 'Document ID Type': 'AR',\n",
       " 'Document Category ID': 'FIN'}"
      ]
     },
     "execution_count": 144,
     "metadata": {},
     "output_type": "execute_result"
    }
   ],
   "source": [
    "metadata_dict['ABA_AR_O&G.pdf']"
   ]
  },
  {
   "cell_type": "code",
   "execution_count": null,
   "id": "17796481-b37b-45f0-a1dc-29df58abe8c5",
   "metadata": {},
   "outputs": [],
   "source": [
    "query_kendra(\"what are trends in relaince\")"
   ]
  },
  {
   "cell_type": "code",
   "execution_count": 163,
   "id": "ac659326-c1dd-42f3-ac1d-870dcd584ab2",
   "metadata": {},
   "outputs": [
    {
     "name": "stdout",
     "output_type": "stream",
     "text": [
      "\n",
      "📌 **Indexed Document IDs in Kendra:**\n",
      "\n"
     ]
    }
   ],
   "source": [
    "import boto3\n",
    "import json\n",
    "\n",
    "# Initialize Kendra Client\n",
    "kendra_client = boto3.client(\"kendra\")\n",
    "\n",
    "# Your Kendra Index ID\n",
    "kendra_index_id = \"0bee42e9-9d01-44f9-8e56-32bbfa32e928\"\n",
    "\n",
    "def list_kendra_documents():\n",
    "    \"\"\"\n",
    "    Queries Amazon Kendra and retrieves indexed document IDs.\n",
    "    \"\"\"\n",
    "    # Perform a broad search to retrieve all documents\n",
    "    response = kendra_client.query(\n",
    "        IndexId=kendra_index_id,\n",
    "        QueryText=\"*\",  # Wildcard search to list all documents\n",
    "        PageSize=50  # Fetch up to 50 documents at a time\n",
    "    )\n",
    "\n",
    "    print(\"\\n📌 **Indexed Document IDs in Kendra:**\\n\")\n",
    "    \n",
    "    if \"ResultItems\" in response:\n",
    "        for item in response[\"ResultItems\"]:\n",
    "            print(f\"- {item.get('DocumentId', 'Unknown')}\")\n",
    "    else:\n",
    "        print(\"❌ No documents found in Kendra.\")\n",
    "\n",
    "# Run the function\n",
    "list_kendra_documents()\n"
   ]
  },
  {
   "cell_type": "code",
   "execution_count": 166,
   "id": "3aab2d92-483e-44f7-9f13-9e4d4927d22b",
   "metadata": {},
   "outputs": [
    {
     "name": "stdout",
     "output_type": "stream",
     "text": [
      "\n",
      "📌 **Kendra Index Details:**\n",
      "  ✅ Status: ACTIVE\n",
      "  📂 Indexed Documents: Unknown\n",
      "  🔄 Last Updated: Unknown\n"
     ]
    }
   ],
   "source": [
    "import boto3\n",
    "import json\n",
    "\n",
    "# Initialize Kendra Client\n",
    "kendra_client = boto3.client(\"kendra\")\n",
    "\n",
    "# Your Kendra Index ID\n",
    "kendra_index_id = \"0bee42e9-9d01-44f9-8e56-32bbfa32e928\"\n",
    "\n",
    "def check_kendra_document_count():\n",
    "    \"\"\"\n",
    "    Retrieves document count from Kendra Index using describe_index().\n",
    "    \"\"\"\n",
    "    response = kendra_client.describe_index(\n",
    "        Id=kendra_index_id\n",
    "    )\n",
    "\n",
    "    print(\"\\n📌 **Kendra Index Details:**\")\n",
    "    print(f\"  ✅ Status: {response.get('Status', 'Unknown')}\")\n",
    "    print(f\"  📂 Indexed Documents: {response.get('DocumentCount', 'Unknown')}\")\n",
    "    print(f\"  🔄 Last Updated: {response.get('LastUpdatedAt', 'Unknown')}\")\n",
    "\n",
    "# Run the function\n",
    "check_kendra_document_count()\n",
    "\n"
   ]
  },
  {
   "cell_type": "code",
   "execution_count": null,
   "id": "a5849414-36d9-4505-a079-82864003e4d7",
   "metadata": {},
   "outputs": [],
   "source": []
  }
 ],
 "metadata": {
  "kernelspec": {
   "display_name": "Python 3 (ipykernel)",
   "language": "python",
   "name": "python3"
  },
  "language_info": {
   "codemirror_mode": {
    "name": "ipython",
    "version": 3
   },
   "file_extension": ".py",
   "mimetype": "text/x-python",
   "name": "python",
   "nbconvert_exporter": "python",
   "pygments_lexer": "ipython3",
   "version": "3.11.11"
  }
 },
 "nbformat": 4,
 "nbformat_minor": 5
}
